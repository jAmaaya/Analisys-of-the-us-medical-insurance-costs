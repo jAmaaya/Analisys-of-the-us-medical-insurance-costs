{
 "cells": [
  {
   "cell_type": "markdown",
   "metadata": {},
   "source": [
    "# U.S. Medical Insurance Costs"
   ]
  },
  {
   "cell_type": "markdown",
   "metadata": {},
   "source": [
    "# Project's goals: by Jairo Amaya\n",
    "\n",
    "0. Create a Variable that represents the database\n",
    "1. Average age\n",
    "2. Average bmi by ages (18-25, 26-30, 31-40, 41-50, 51-60, 61-...<)\n",
    "3. Calculate children by ages (18-25, 26-30, 31-40, 41-50, 51-60, 61-...<)\n",
    "4. Where there are more smokers ('southwest', 'southeast', 'northwest', 'northeast')\n",
    "5. Calculate the average Costs\n",
    "6. Calculate the average Costs for men and women\n",
    "7. Calculate how many women and men are in the Database"
   ]
  },
  {
   "cell_type": "markdown",
   "metadata": {},
   "source": [
    "0. A Variable that represents the database 'insurance_dict'"
   ]
  },
  {
   "cell_type": "code",
   "execution_count": 16,
   "metadata": {},
   "outputs": [],
   "source": [
    "import csv\n",
    "\n",
    "# I'm importing the insurance.csv here and saving it in a Scope variable:\n",
    "open_dict = open('insurance.csv')\n",
    "insurance_dict = csv.DictReader(open_dict)\n",
    "\n",
    "\n",
    "    "
   ]
  },
  {
   "cell_type": "markdown",
   "metadata": {},
   "source": [
    "1. Average Age"
   ]
  },
  {
   "cell_type": "code",
   "execution_count": 26,
   "metadata": {},
   "outputs": [
    {
     "name": "stdout",
     "output_type": "stream",
     "text": [
      "39.20702541106129\n"
     ]
    }
   ],
   "source": [
    "import csv\n",
    "\n",
    "# I'm importing the insurance.csv here and saving it in a Scope variable:\n",
    "open_dict = open('insurance.csv')\n",
    "insurance_dict = csv.DictReader(open_dict)\n",
    "\n",
    "list_of_ages = list()\n",
    "sum_of_ages = 0\n",
    "for item in insurance_dict:\n",
    "    \n",
    "    list_of_ages.append(item['age'])\n",
    "    sum_of_ages += int(item['age'])\n",
    "len_of_ages = len(list_of_ages)\n",
    "\n",
    "\n",
    "average_age = sum_of_ages/len_of_ages\n",
    "\n",
    "print(average_age)\n",
    "\n",
    "    "
   ]
  },
  {
   "cell_type": "markdown",
   "metadata": {},
   "source": [
    "2. Average bmi by ages (18-25, 26-30, 31-40, 41-50, 51-60, 61-...<)"
   ]
  },
  {
   "cell_type": "code",
   "execution_count": 70,
   "metadata": {},
   "outputs": [
    {
     "name": "stdout",
     "output_type": "stream",
     "text": [
      "{1: 30, 2: 29, 3: 30, 4: 30, 5: 31, 6: 32}\n"
     ]
    }
   ],
   "source": [
    "import csv\n",
    "# Importing insurance.csv and saving it in a Scope variable:\n",
    "open_dict = open('insurance.csv')\n",
    "insurance_dict = csv.DictReader(open_dict)\n",
    "\n",
    "# Initializing lists to store ages and BMI values\n",
    "list_of_ages = list()\n",
    "list_of_bmi = list()\n",
    "\n",
    "# Extracting age and BMI values from the insurance_dict\n",
    "for item in insurance_dict:\n",
    "    list_of_ages.append(int(item['age']))\n",
    "    list_of_bmi.append(float(item['bmi']))\n",
    "\n",
    "# Defining age categories\n",
    "# 1: 18-25 years,\n",
    "# 2: 26-30 years,\n",
    "# 3: 31-40 years,\n",
    "# 4: 41-50 years,\n",
    "# 5: 51-60 years,\n",
    "# 6: 61-...< years\n",
    "dict_of_ages = {1: [], 2:[], 3:[], 4:[], 5:[], 6:[]}\n",
    "\n",
    "# Creating a new list of pairs (age, bmi)\n",
    "new_list = zip(list_of_ages, list_of_bmi)\n",
    "\n",
    "# Categorizing BMI values based on age\n",
    "for item in new_list:\n",
    "    if item[0] >= 18 and item[0] <= 25:\n",
    "        dict_of_ages[1].append(item[1])\n",
    "    elif item[0] >= 26 and item[0] <= 30:\n",
    "        dict_of_ages[2].append(item[1])\n",
    "    elif item[0] >= 31 and item[0] <= 40:\n",
    "        dict_of_ages[3].append(item[1])\n",
    "    elif item[0] >= 41 and item[0] <= 50:\n",
    "        dict_of_ages[4].append(item[1])\n",
    "    elif item[0] >= 51 and item[0] <= 60:\n",
    "        dict_of_ages[5].append(item[1])\n",
    "    else:\n",
    "        dict_of_ages[6].append(item[1])\n",
    "\n",
    "# Calculating sums for each age category\n",
    "sum_of_1 = 0\n",
    "sum_of_2 = 0\n",
    "sum_of_3 = 0\n",
    "sum_of_4 = 0\n",
    "sum_of_5 = 0\n",
    "sum_of_6 = 0\n",
    "\n",
    "# Calculating averages for each age category and storing them in a dictionary\n",
    "list_of_averages_bmis = dict()\n",
    "\n",
    "for number in dict_of_ages[1]:\n",
    "    sum_of_1 += number\n",
    "\n",
    "for number in dict_of_ages[2]:\n",
    "    sum_of_2 += number\n",
    "\n",
    "for number in dict_of_ages[3]:\n",
    "    sum_of_3 += number\n",
    "\n",
    "for number in dict_of_ages[4]:\n",
    "    sum_of_4 += number\n",
    "\n",
    "for number in dict_of_ages[5]:\n",
    "    sum_of_5 += number\n",
    "\n",
    "for number in dict_of_ages[6]:\n",
    "    sum_of_6 += number\n",
    "\n",
    "list_of_averages_bmis[1] = int(sum_of_1 / len(dict_of_ages[1]))\n",
    "list_of_averages_bmis[2] = int(sum_of_2 / len(dict_of_ages[2]))\n",
    "list_of_averages_bmis[3] = int(sum_of_3 / len(dict_of_ages[3]))\n",
    "list_of_averages_bmis[4] = int(sum_of_4 / len(dict_of_ages[4]))\n",
    "list_of_averages_bmis[5] = int(sum_of_5 / len(dict_of_ages[5]))\n",
    "list_of_averages_bmis[6] = int(sum_of_6 / len(dict_of_ages[6]))\n",
    "\n",
    "# Printing the calculated averages for each age category\n",
    "print(list_of_averages_bmis)\n",
    "\n",
    "\n",
    "\n",
    "\n",
    "        \n",
    "    "
   ]
  },
  {
   "cell_type": "markdown",
   "metadata": {},
   "source": [
    "3. Calculating the number of children by age"
   ]
  },
  {
   "cell_type": "code",
   "execution_count": 23,
   "metadata": {},
   "outputs": [
    {
     "name": "stdout",
     "output_type": "stream",
     "text": [
      "1: 18-25 years,\n",
      "2: 26-30 years,\n",
      "3: 31-40 years,\n",
      "4: 41-50 years,\n",
      "5: 51-60 years,\n",
      "6: 61-...< years {1: 0.6666666666666666, 2: 1.2246376811594204, 3: 1.5058365758754864, 4: 1.387900355871886, 5: 0.9622641509433962, 6: 0.6593406593406593}\n"
     ]
    }
   ],
   "source": [
    "import csv\n",
    "\n",
    "# Importing insurance.csv and saving it in a Scope variable:\n",
    "open_dict = open('insurance.csv')\n",
    "insurance_dict = csv.DictReader(open_dict)\n",
    "\n",
    "# Initializing lists to store ages and children values\n",
    "list_of_ages = list()\n",
    "list_of_children = list()\n",
    "\n",
    "# Extracting age and children values from the insurance_dict\n",
    "for item in insurance_dict:\n",
    "    list_of_ages.append(int(item['age']))\n",
    "    list_of_children.append(float(item['children']))\n",
    "\n",
    "# Defining age categories\n",
    "# 1: 18-25 years,\n",
    "# 2: 26-30 years,\n",
    "# 3: 31-40 years,\n",
    "# 4: 41-50 years,\n",
    "# 5: 51-60 years,\n",
    "# 6: 61-...< years\n",
    "dict_of_ages = {1: [], 2: [], 3: [], 4: [], 5: [], 6: []}\n",
    "\n",
    "# Creating a new list of pairs (age, children)\n",
    "new_list = zip(list_of_ages, list_of_children)\n",
    "\n",
    "# Categorizing children values based on age\n",
    "for item in new_list:\n",
    "    if item[0] >= 18 and item[0] <= 25:\n",
    "        dict_of_ages[1].append(item[1])\n",
    "    elif item[0] >= 26 and item[0] <= 30:\n",
    "        dict_of_ages[2].append(item[1])\n",
    "    elif item[0] >= 31 and item[0] <= 40:\n",
    "        dict_of_ages[3].append(item[1])\n",
    "    elif item[0] >= 41 and item[0] <= 50:\n",
    "        dict_of_ages[4].append(item[1])\n",
    "    elif item[0] >= 51 and item[0] <= 60:\n",
    "        dict_of_ages[5].append(item[1])\n",
    "    else:\n",
    "        dict_of_ages[6].append(item[1])\n",
    "\n",
    "# Calculating sums for each age category\n",
    "sum_of_1 = 0\n",
    "sum_of_2 = 0\n",
    "sum_of_3 = 0\n",
    "sum_of_4 = 0\n",
    "sum_of_5 = 0\n",
    "sum_of_6 = 0\n",
    "\n",
    "# Calculating averages for each age category and storing them in a dictionary\n",
    "list_of_averages_children = dict()\n",
    "\n",
    "for number in dict_of_ages[1]:\n",
    "    sum_of_1 += number\n",
    "\n",
    "for number in dict_of_ages[2]:\n",
    "    sum_of_2 += number\n",
    "\n",
    "for number in dict_of_ages[3]:\n",
    "    sum_of_3 += number\n",
    "\n",
    "for number in dict_of_ages[4]:\n",
    "    sum_of_4 += number\n",
    "\n",
    "for number in dict_of_ages[5]:\n",
    "    sum_of_5 += number\n",
    "\n",
    "for number in dict_of_ages[6]:\n",
    "    sum_of_6 += number\n",
    "\n",
    "list_of_averages_children[1] = sum_of_1 / len(dict_of_ages[1])\n",
    "list_of_averages_children[2] = sum_of_2 / len(dict_of_ages[2])\n",
    "list_of_averages_children[3] = sum_of_3 / len(dict_of_ages[3])\n",
    "list_of_averages_children[4] = sum_of_4 / len(dict_of_ages[4])\n",
    "list_of_averages_children[5] = sum_of_5 / len(dict_of_ages[5])\n",
    "list_of_averages_children[6] = sum_of_6 / len(dict_of_ages[6])\n",
    "\n",
    "# Printing the calculated averages for each age category\n",
    "print(\"\"\"1: 18-25 years,\n",
    "2: 26-30 years,\n",
    "3: 31-40 years,\n",
    "4: 41-50 years,\n",
    "5: 51-60 years,\n",
    "6: 61-...< years \"\"\"+ str(list_of_averages_children))\n",
    "\n"
   ]
  },
  {
   "cell_type": "markdown",
   "metadata": {},
   "source": [
    "4. Where there are more smokers ('southwest', 'southeast', 'northwest', 'northeast')"
   ]
  },
  {
   "cell_type": "code",
   "execution_count": 21,
   "metadata": {},
   "outputs": [
    {
     "name": "stdout",
     "output_type": "stream",
     "text": [
      "In 1338 people. \n",
      "274 are Smokers. \n",
      "In Southeast there are more Smokers with a number of 91 Smokers.\n"
     ]
    }
   ],
   "source": [
    "import csv\n",
    "\n",
    "# Importing insurance.csv and saving it in a Scope variable:\n",
    "open_dict = open('insurance.csv')\n",
    "insurance_dict = csv.DictReader(open_dict)\n",
    "people_for_regions = {'sw': [], 'sh':[], 'nw':[], 'nh':[]}\n",
    "smokers_for_regions ={'sw': [], 'sh':[], 'nw':[], 'nh':[]}\n",
    "dict_total = list()\n",
    "for item in insurance_dict:\n",
    "    dict_total.append(item)\n",
    "    if item['region'] == 'southwest':\n",
    "        people_for_regions['sw'].append(item)\n",
    "    if item['region'] == 'southeast':\n",
    "        people_for_regions['sh'].append(item)\n",
    "    if item['region'] == 'northwest':\n",
    "        people_for_regions['nw'].append(item)\n",
    "    if item['region'] == 'northeast':\n",
    "        people_for_regions['nh'].append(item) \n",
    "        \n",
    "\n",
    "        \n",
    "\n",
    "        \n",
    "for individual in people_for_regions['sw']:   \n",
    "    if individual['smoker'] == 'yes':\n",
    "        smokers_for_regions['sw'].append(individual)\n",
    "        \n",
    "for individual in people_for_regions['sh']:   \n",
    "    if individual['smoker'] == 'yes':\n",
    "        smokers_for_regions['sh'].append(individual)\n",
    "\n",
    "for individual in people_for_regions['nw']:   \n",
    "    if individual['smoker'] == 'yes':\n",
    "        smokers_for_regions['nw'].append(individual)\n",
    "\n",
    "for individual in people_for_regions['nh']:   \n",
    "    if individual['smoker'] == 'yes':\n",
    "        smokers_for_regions['nh'].append(individual)\n",
    "        \n",
    "smokers_in_zones = {'sw':len(smokers_for_regions['sw']),'sh':len(smokers_for_regions['sh']),'nw':len(smokers_for_regions['nw']),'nh':len(smokers_for_regions['nh'])}\n",
    "sum_total = smokers_in_zones['sw'] + smokers_in_zones['sh'] + smokers_in_zones['nw'] + smokers_in_zones['nh']\n",
    "\n",
    "\n",
    "\n",
    "\n",
    "print('In ' + str(len(dict_total)) + \" people. \\n\" + str(sum_total) + \" are Smokers. \\n\" + \"In Southeast there are more Smokers with a number of \" + str(smokers_in_zones['sh']) + \" Smokers.\" )\n",
    "\n",
    "        \n",
    "\n",
    "                                         \n"
   ]
  },
  {
   "cell_type": "markdown",
   "metadata": {},
   "source": [
    "5. Calculating the average Cost"
   ]
  },
  {
   "cell_type": "code",
   "execution_count": 34,
   "metadata": {},
   "outputs": [
    {
     "name": "stdout",
     "output_type": "stream",
     "text": [
      "This is the average Cost: 13270\n"
     ]
    }
   ],
   "source": [
    "import csv\n",
    "\n",
    "# Importing insurance.csv and saving it in a Scope variable:\n",
    "open_dict = open('insurance.csv')\n",
    "insurance_dict = csv.DictReader(open_dict)\n",
    "sum_of_costs = 0\n",
    "list_of_costs = []\n",
    "for item in insurance_dict:\n",
    "    list_of_costs.append(item['charges'])\n",
    "    sum_of_costs += float(item['charges'])\n",
    "print('This is the average Cost: ' + str(int(sum_of_costs/len(list_of_costs))))"
   ]
  },
  {
   "cell_type": "markdown",
   "metadata": {},
   "source": [
    "6. Calculate the average Cost for men and women"
   ]
  },
  {
   "cell_type": "code",
   "execution_count": 42,
   "metadata": {},
   "outputs": [
    {
     "name": "stdout",
     "output_type": "stream",
     "text": [
      "The Average cost for men: 13956\n",
      "The Average cost for women: 12569\n"
     ]
    }
   ],
   "source": [
    "import csv\n",
    "\n",
    "# Importing insurance.csv and saving it in a Scope variable:\n",
    "open_dict = open('insurance.csv')\n",
    "insurance_dict = csv.DictReader(open_dict)\n",
    "\n",
    "list_divided_by_gender = {'male': [], 'female':[]}\n",
    "sum_female= 0\n",
    "sum_male = 0\n",
    "\n",
    "for item in insurance_dict:\n",
    "    if item['sex'] == 'male':\n",
    "        sum_male += float(item['charges'])\n",
    "        list_divided_by_gender['male'].append(item)\n",
    "    elif item['sex'] == 'female':\n",
    "        sum_female += float(item['charges'])\n",
    "        list_divided_by_gender['female'].append(item)\n",
    "\n",
    "avg_male = int(sum_male/len(list_divided_by_gender['male']))\n",
    "avg_female = int(sum_female/len(list_divided_by_gender['female']))\n",
    "\n",
    "print('The Average cost for men: '+ str(avg_male) + \"\\nThe Average cost for women: \" + str(avg_female))\n"
   ]
  },
  {
   "cell_type": "markdown",
   "metadata": {},
   "source": [
    "7. How many women and men are in the Database"
   ]
  },
  {
   "cell_type": "code",
   "execution_count": 45,
   "metadata": {},
   "outputs": [
    {
     "name": "stdout",
     "output_type": "stream",
     "text": [
      "There are 676 men. \n",
      "There are 662 women.\n"
     ]
    }
   ],
   "source": [
    "import csv\n",
    "\n",
    "# Importing insurance.csv and saving it in a Scope variable:\n",
    "open_dict = open('insurance.csv')\n",
    "insurance_dict = csv.DictReader(open_dict)\n",
    "\n",
    "list_divided_by_gender = {'male': [], 'female':[]}\n",
    "sum_female= 0\n",
    "sum_male = 0\n",
    "\n",
    "for item in insurance_dict:\n",
    "    if item['sex'] == 'male':\n",
    "        sum_male += float(item['charges'])\n",
    "        list_divided_by_gender['male'].append(item)\n",
    "    elif item['sex'] == 'female':\n",
    "        sum_female += float(item['charges'])\n",
    "        list_divided_by_gender['female'].append(item)\n",
    "\n",
    "lenght_male = len(list_divided_by_gender['male'])\n",
    "lenght_female = len(list_divided_by_gender['female'])\n",
    "\n",
    "print('There are '+ str(lenght_male) + \" men. \\nThere are \" + str(lenght_female)+ \" women.\")\n"
   ]
  },
  {
   "cell_type": "code",
   "execution_count": null,
   "metadata": {},
   "outputs": [],
   "source": []
  }
 ],
 "metadata": {
  "kernelspec": {
   "display_name": "Python 3 (ipykernel)",
   "language": "python",
   "name": "python3"
  },
  "language_info": {
   "codemirror_mode": {
    "name": "ipython",
    "version": 3
   },
   "file_extension": ".py",
   "mimetype": "text/x-python",
   "name": "python",
   "nbconvert_exporter": "python",
   "pygments_lexer": "ipython3",
   "version": "3.11.4"
  }
 },
 "nbformat": 4,
 "nbformat_minor": 4
}
